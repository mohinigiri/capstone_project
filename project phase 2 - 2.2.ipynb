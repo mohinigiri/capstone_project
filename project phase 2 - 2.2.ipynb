{
 "cells": [
  {
   "cell_type": "markdown",
   "id": "467163fb",
   "metadata": {},
   "source": [
    "  # 2.2\t Analysis of the type of crime vs each state vs Literacy rate.\n"
   ]
  },
  {
   "cell_type": "code",
   "execution_count": null,
   "id": "cf9b4d33",
   "metadata": {},
   "outputs": [],
   "source": [
    "\n",
    "import pandas as pd\n",
    "import numpy as np\n",
    "import seaborn as sns\n",
    "import matplotlib.pyplot as plt\n",
    "%matplotlib inline\n",
    "import warnings\n",
    "warnings.filterwarnings('ignore')\n"
   ]
  },
  {
   "cell_type": "code",
   "execution_count": null,
   "id": "9e2f189a",
   "metadata": {},
   "outputs": [],
   "source": [
    "df = pd.read_csv('capston')\n",
    "\n",
    "df"
   ]
  },
  {
   "cell_type": "code",
   "execution_count": null,
   "id": "829edabc",
   "metadata": {},
   "outputs": [],
   "source": [
    "df.columns"
   ]
  },
  {
   "cell_type": "code",
   "execution_count": null,
   "id": "83d33e6c",
   "metadata": {},
   "outputs": [],
   "source": [
    "df"
   ]
  },
  {
   "cell_type": "code",
   "execution_count": null,
   "id": "2c4bb434",
   "metadata": {},
   "outputs": [],
   "source": [
    "df.iloc[0]"
   ]
  },
  {
   "cell_type": "code",
   "execution_count": null,
   "id": "cb5ab363",
   "metadata": {},
   "outputs": [],
   "source": [
    "up = df[0:1]"
   ]
  },
  {
   "cell_type": "code",
   "execution_count": null,
   "id": "613acaec",
   "metadata": {},
   "outputs": [],
   "source": [
    "up"
   ]
  },
  {
   "cell_type": "code",
   "execution_count": null,
   "id": "1a812737",
   "metadata": {},
   "outputs": [],
   "source": [
    "transposed_up = up.T.reset_index()"
   ]
  },
  {
   "cell_type": "code",
   "execution_count": null,
   "id": "ed7bed75",
   "metadata": {},
   "outputs": [],
   "source": [
    "transposed_up"
   ]
  },
  {
   "cell_type": "code",
   "execution_count": null,
   "id": "04d7d446",
   "metadata": {},
   "outputs": [],
   "source": [
    "transposed_up.columns = ['crime','numbers']"
   ]
  },
  {
   "cell_type": "code",
   "execution_count": null,
   "id": "a2bc6fea",
   "metadata": {},
   "outputs": [],
   "source": [
    "transposed_up"
   ]
  },
  {
   "cell_type": "code",
   "execution_count": null,
   "id": "6839eb1e",
   "metadata": {},
   "outputs": [],
   "source": [
    "transposed_up = transposed_up[2:]\n"
   ]
  },
  {
   "cell_type": "code",
   "execution_count": null,
   "id": "aaeb93af",
   "metadata": {},
   "outputs": [],
   "source": [
    "transposed_up = transposed_up.reset_index()"
   ]
  },
  {
   "cell_type": "code",
   "execution_count": null,
   "id": "c6dd2f56",
   "metadata": {
    "scrolled": true
   },
   "outputs": [],
   "source": [
    "transposed_up['Index_Column'] = 67.68"
   ]
  },
  {
   "cell_type": "code",
   "execution_count": null,
   "id": "ff7dfc9a",
   "metadata": {},
   "outputs": [],
   "source": [
    "transposed_up.rename(columns={'Index_Column':'Literacy'},inplace=True)"
   ]
  },
  {
   "cell_type": "code",
   "execution_count": null,
   "id": "9778ab6c",
   "metadata": {},
   "outputs": [],
   "source": [
    "transposed_up.drop('index',axis=1,inplace=True)"
   ]
  },
  {
   "cell_type": "code",
   "execution_count": null,
   "id": "8c61d7c3",
   "metadata": {},
   "outputs": [],
   "source": [
    "transposed_up"
   ]
  },
  {
   "cell_type": "code",
   "execution_count": null,
   "id": "0af1fb92",
   "metadata": {},
   "outputs": [],
   "source": [
    "plt.figure(figsize=(10,12))\n",
    "sns.stripplot(x='crime', y=\"numbers\", data=transposed_up,hue='Literacy',jitter=True,palette='coolwarm')\n",
    "plt.xlabel('crime',fontsize=60, color=\"red\")\n",
    "plt.ylabel('numbers',fontsize=60, color=\"red\")\n",
    "plt.title(r\"crime rate up\",fontsize=60, color=\"red\")"
   ]
  },
  {
   "cell_type": "markdown",
   "id": "e8f7630b",
   "metadata": {},
   "source": [
    "transposed_up"
   ]
  },
  {
   "cell_type": "code",
   "execution_count": null,
   "id": "b13cdb1d",
   "metadata": {},
   "outputs": [],
   "source": [
    "transposed_up"
   ]
  },
  {
   "cell_type": "code",
   "execution_count": null,
   "id": "3c1fcabb",
   "metadata": {},
   "outputs": [],
   "source": [
    "import warnings\n",
    "warnings.filterwarnings('ignore')"
   ]
  },
  {
   "cell_type": "code",
   "execution_count": null,
   "id": "d907042e",
   "metadata": {},
   "outputs": [],
   "source": [
    "plt.figure(figsize=(15,12))\n",
    "num_plots = min(len(df.columns) - 1, 144) \n",
    "\n",
    "rows = 29\n",
    "cols = 5\n",
    "for plot_idx, column in enumerate(df.columns[1:num_plots + 1], start=1):\n",
    "    ax = plt.subplot(rows, cols, plot_idx)\n",
    "    sns.lineplot(data=df, x='STATE/UT', y=column,color='blue', ax=ax)\n",
    "    ax.set_xlabel(column)\n",
    "    \n",
    "plt.tight_layout()\n",
    "plt.show()"
   ]
  },
  {
   "cell_type": "code",
   "execution_count": null,
   "id": "9a5311db",
   "metadata": {},
   "outputs": [],
   "source": [
    "up"
   ]
  },
  {
   "cell_type": "code",
   "execution_count": null,
   "id": "66c69dcc",
   "metadata": {},
   "outputs": [],
   "source": [
    "plt.figure(figsize=(15,12))\n",
    "num_plots = min(len(up.columns) - 1, 144) \n",
    "\n",
    "rows = 29\n",
    "cols = 5\n",
    "for plot_idx, column in enumerate(up.columns[1:num_plots + 1], start=1):\n",
    "    ax = plt.subplot(rows, cols, plot_idx)\n",
    "    sns.lineplot(data=up, x='STATE/UT', y=column,hue='Literacy',color='blue', ax=ax)\n",
    "    ax.set_xlabel(column)\n",
    "    \n",
    "plt.tight_layout()\n",
    "plt.show()"
   ]
  },
  {
   "cell_type": "code",
   "execution_count": null,
   "id": "0f0ec11e",
   "metadata": {},
   "outputs": [],
   "source": [
    "df"
   ]
  },
  {
   "cell_type": "code",
   "execution_count": null,
   "id": "a7856c0b",
   "metadata": {
    "scrolled": true
   },
   "outputs": [],
   "source": [
    "maharashtra = df[1:2]"
   ]
  },
  {
   "cell_type": "code",
   "execution_count": null,
   "id": "67f98953",
   "metadata": {},
   "outputs": [],
   "source": [
    "plt.figure(figsize=(15,12))\n",
    "num_plots = min(len(up.columns) - 1, 144) \n",
    "\n",
    "rows = 29\n",
    "cols = 5\n",
    "for plot_idx, column in enumerate(maharashtra.columns[1:num_plots + 1], start=1):\n",
    "    ax = plt.subplot(rows, cols, plot_idx)\n",
    "    sns.lineplot(data=maharashtra, x='STATE/UT', y=column,hue='Literacy',color='blue', ax=ax)\n",
    "    ax.set_xlabel(column)\n",
    "    \n",
    "plt.tight_layout()\n",
    "plt.show()"
   ]
  },
  {
   "cell_type": "code",
   "execution_count": null,
   "id": "cba1fd1f",
   "metadata": {},
   "outputs": [],
   "source": [
    "bihar = df[2:3]"
   ]
  },
  {
   "cell_type": "code",
   "execution_count": null,
   "id": "32ace81e",
   "metadata": {},
   "outputs": [],
   "source": [
    "plt.figure(figsize=(15,12))\n",
    "num_plots = min(len(up.columns) - 1, 144) \n",
    "\n",
    "rows = 29\n",
    "cols = 5\n",
    "for plot_idx, column in enumerate(bihar.columns[1:num_plots + 1], start=1):\n",
    "    ax = plt.subplot(rows, cols, plot_idx)\n",
    "    sns.lineplot(data=bihar, x='STATE/UT', y=column,hue='Literacy',color='blue', ax=ax)\n",
    "    ax.set_xlabel(column)\n",
    "    \n",
    "plt.tight_layout()\n",
    "plt.show()"
   ]
  },
  {
   "cell_type": "code",
   "execution_count": null,
   "id": "dc09a615",
   "metadata": {},
   "outputs": [],
   "source": [
    "west_bengal = df[3:4]"
   ]
  },
  {
   "cell_type": "code",
   "execution_count": null,
   "id": "a11b3a1d",
   "metadata": {},
   "outputs": [],
   "source": [
    "plt.figure(figsize=(15,12))\n",
    "num_plots = min(len(up.columns) - 1, 144) \n",
    "\n",
    "rows = 29\n",
    "cols = 5\n",
    "for plot_idx, column in enumerate(west_bengal.columns[1:num_plots + 1], start=1):\n",
    "    ax = plt.subplot(rows, cols, plot_idx)\n",
    "    sns.lineplot(data=west_bengal, x='STATE/UT', y=column,hue='Literacy',color='blue', ax=ax)\n",
    "    ax.set_xlabel(column)\n",
    "    \n",
    "plt.tight_layout()\n",
    "plt.show()"
   ]
  },
  {
   "cell_type": "code",
   "execution_count": null,
   "id": "0f1c89b3",
   "metadata": {},
   "outputs": [],
   "source": [
    "andhra_pradesh = df[4:5]"
   ]
  },
  {
   "cell_type": "code",
   "execution_count": null,
   "id": "ac21518a",
   "metadata": {},
   "outputs": [],
   "source": [
    "plt.figure(figsize=(15,12))\n",
    "num_plots = min(len(up.columns) - 1, 144) \n",
    "\n",
    "rows = 29\n",
    "cols = 5\n",
    "for plot_idx, column in enumerate(andhra_pradesh.columns[1:num_plots + 1], start=1):\n",
    "    ax = plt.subplot(rows, cols, plot_idx)\n",
    "    sns.lineplot(data=andhra_pradesh, x='STATE/UT', y=column,hue='Literacy',color='blue', ax=ax)\n",
    "    ax.set_xlabel(column)\n",
    "    \n",
    "plt.tight_layout()\n",
    "plt.show()"
   ]
  },
  {
   "cell_type": "code",
   "execution_count": null,
   "id": "08b4f902",
   "metadata": {},
   "outputs": [],
   "source": [
    " mp = df[5:6]"
   ]
  },
  {
   "cell_type": "code",
   "execution_count": null,
   "id": "eb87e28c",
   "metadata": {},
   "outputs": [],
   "source": [
    "plt.figure(figsize=(15,12))\n",
    "num_plots = min(len(up.columns) - 1, 144) \n",
    "\n",
    "rows = 29\n",
    "cols = 5\n",
    "for plot_idx, column in enumerate(mp.columns[1:num_plots + 1], start=1):\n",
    "    ax = plt.subplot(rows, cols, plot_idx)\n",
    "    sns.lineplot(data=mp, x='STATE/UT', y=column,hue='Literacy',color='blue', ax=ax)\n",
    "    ax.set_xlabel(column)\n",
    "    \n",
    "plt.tight_layout()\n",
    "plt.show()"
   ]
  },
  {
   "cell_type": "code",
   "execution_count": null,
   "id": "d909affc",
   "metadata": {},
   "outputs": [],
   "source": [
    "tn = df[6:7]"
   ]
  },
  {
   "cell_type": "code",
   "execution_count": null,
   "id": "8f806ebe",
   "metadata": {},
   "outputs": [],
   "source": [
    "plt.figure(figsize=(15,12))\n",
    "num_plots = min(len(up.columns) - 1, 144) \n",
    "\n",
    "rows = 29\n",
    "cols = 5\n",
    "for plot_idx, column in enumerate(tn.columns[1:num_plots + 1], start=1):\n",
    "    ax = plt.subplot(rows, cols, plot_idx)\n",
    "    sns.lineplot(data=tn, x='STATE/UT', y=column,hue='Literacy',color='blue', ax=ax)\n",
    "    ax.set_xlabel(column)\n",
    "    \n",
    "plt.tight_layout()\n",
    "plt.show()"
   ]
  },
  {
   "cell_type": "code",
   "execution_count": null,
   "id": "fc10f040",
   "metadata": {},
   "outputs": [],
   "source": [
    "rajasthan = df[7:8]"
   ]
  },
  {
   "cell_type": "code",
   "execution_count": null,
   "id": "9c8f5f58",
   "metadata": {},
   "outputs": [],
   "source": [
    "plt.figure(figsize=(15,12))\n",
    "num_plots = min(len(up.columns) - 1, 144) \n",
    "\n",
    "rows = 29\n",
    "cols = 5\n",
    "for plot_idx, column in enumerate(rajasthan.columns[1:num_plots + 1], start=1):\n",
    "    ax = plt.subplot(rows, cols, plot_idx)\n",
    "    sns.lineplot(data=rajasthan, x='STATE/UT', y=column,hue='Literacy',color='blue', ax=ax)\n",
    "    ax.set_xlabel(column)\n",
    "    \n",
    "plt.tight_layout()\n",
    "plt.show()"
   ]
  },
  {
   "cell_type": "code",
   "execution_count": null,
   "id": "338e15fb",
   "metadata": {},
   "outputs": [],
   "source": [
    "karnataka = df[8:9]"
   ]
  },
  {
   "cell_type": "code",
   "execution_count": null,
   "id": "b1bb378d",
   "metadata": {},
   "outputs": [],
   "source": [
    "plt.figure(figsize=(15,12))\n",
    "num_plots = min(len(up.columns) - 1, 144) \n",
    "\n",
    "rows = 29\n",
    "cols = 5\n",
    "for plot_idx, column in enumerate(karnataka.columns[1:num_plots + 1], start=1):\n",
    "    ax = plt.subplot(rows, cols, plot_idx)\n",
    "    sns.lineplot(data=karnataka, x='STATE/UT', y=column,hue='Literacy',color='blue', ax=ax)\n",
    "    ax.set_xlabel(column)\n",
    "    \n",
    "plt.tight_layout()\n",
    "plt.show()"
   ]
  },
  {
   "cell_type": "code",
   "execution_count": null,
   "id": "d807bcaa",
   "metadata": {},
   "outputs": [],
   "source": [
    "gujarat = df[9:10]"
   ]
  },
  {
   "cell_type": "code",
   "execution_count": null,
   "id": "b5ee553f",
   "metadata": {},
   "outputs": [],
   "source": [
    "plt.figure(figsize=(15,12))\n",
    "num_plots = min(len(up.columns) - 1, 144) \n",
    "\n",
    "rows = 29\n",
    "cols = 5\n",
    "for plot_idx, column in enumerate(gujarat.columns[1:num_plots + 1], start=1):\n",
    "    ax = plt.subplot(rows, cols, plot_idx)\n",
    "    sns.lineplot(data=gujarat, x='STATE/UT', y=column,hue='Literacy',color='blue', ax=ax)\n",
    "    ax.set_xlabel(column)\n",
    "    \n",
    "plt.tight_layout()\n",
    "plt.show()"
   ]
  },
  {
   "cell_type": "code",
   "execution_count": null,
   "id": "9a2e8ff2",
   "metadata": {},
   "outputs": [],
   "source": [
    "orissa = df[10:11]"
   ]
  },
  {
   "cell_type": "code",
   "execution_count": null,
   "id": "2d871206",
   "metadata": {},
   "outputs": [],
   "source": [
    "plt.figure(figsize=(15,12))\n",
    "num_plots = min(len(up.columns) - 1, 144) \n",
    "\n",
    "rows = 29\n",
    "cols = 5\n",
    "for plot_idx, column in enumerate(orissa.columns[1:num_plots + 1], start=1):\n",
    "    ax = plt.subplot(rows, cols, plot_idx)\n",
    "    sns.lineplot(data=orissa, x='STATE/UT', y=column,hue='Literacy',color='blue', ax=ax)\n",
    "    ax.set_xlabel(column)\n",
    "    \n",
    "plt.tight_layout()\n",
    "plt.show()"
   ]
  },
  {
   "cell_type": "code",
   "execution_count": null,
   "id": "ac981f6b",
   "metadata": {},
   "outputs": [],
   "source": [
    "kerala = df[11:12]"
   ]
  },
  {
   "cell_type": "code",
   "execution_count": null,
   "id": "aa145386",
   "metadata": {},
   "outputs": [],
   "source": [
    "plt.figure(figsize=(15,12))\n",
    "num_plots = min(len(up.columns) - 1, 144) \n",
    "\n",
    "rows = 29\n",
    "cols = 5\n",
    "for plot_idx, column in enumerate(kerala.columns[1:num_plots + 1], start=1):\n",
    "    ax = plt.subplot(rows, cols, plot_idx)\n",
    "    sns.lineplot(data=kerala, x='STATE/UT', y=column,hue='Literacy',color='blue', ax=ax)\n",
    "    ax.set_xlabel(column)\n",
    "    \n",
    "plt.tight_layout()\n",
    "plt.show()"
   ]
  },
  {
   "cell_type": "code",
   "execution_count": null,
   "id": "6f62e409",
   "metadata": {},
   "outputs": [],
   "source": [
    "jharkhand = df[12:13]"
   ]
  },
  {
   "cell_type": "code",
   "execution_count": null,
   "id": "6c7b3d74",
   "metadata": {},
   "outputs": [],
   "source": [
    "plt.figure(figsize=(15,12))\n",
    "num_plots = min(len(up.columns) - 1, 144) \n",
    "\n",
    "rows = 29\n",
    "cols = 5\n",
    "for plot_idx, column in enumerate(jharkhand.columns[1:num_plots + 1], start=1):\n",
    "    ax = plt.subplot(rows, cols, plot_idx)\n",
    "    sns.lineplot(data=jharkhand, x='STATE/UT', y=column,hue='Literacy',color='blue', ax=ax)\n",
    "    ax.set_xlabel(column)\n",
    "    \n",
    "plt.tight_layout()\n",
    "plt.show()"
   ]
  },
  {
   "cell_type": "code",
   "execution_count": null,
   "id": "e0a863db",
   "metadata": {},
   "outputs": [],
   "source": [
    "assam = df[13:14]"
   ]
  },
  {
   "cell_type": "code",
   "execution_count": null,
   "id": "2d953b43",
   "metadata": {},
   "outputs": [],
   "source": [
    "plt.figure(figsize=(15,12))\n",
    "num_plots = min(len(up.columns) - 1, 144) \n",
    "\n",
    "rows = 29\n",
    "cols = 5\n",
    "for plot_idx, column in enumerate(assam.columns[1:num_plots + 1], start=1):\n",
    "    ax = plt.subplot(rows, cols, plot_idx)\n",
    "    sns.lineplot(data=assam, x='STATE/UT', y=column,hue='Literacy',color='blue', ax=ax)\n",
    "    ax.set_xlabel(column)\n",
    "    \n",
    "plt.tight_layout()\n",
    "plt.show()"
   ]
  },
  {
   "cell_type": "code",
   "execution_count": null,
   "id": "a4359ea7",
   "metadata": {},
   "outputs": [],
   "source": [
    "punjab = df[14:15]"
   ]
  },
  {
   "cell_type": "code",
   "execution_count": null,
   "id": "904d21b3",
   "metadata": {},
   "outputs": [],
   "source": [
    "plt.figure(figsize=(15,12))\n",
    "num_plots = min(len(up.columns) - 1, 144) \n",
    "\n",
    "rows = 29\n",
    "cols = 5\n",
    "for plot_idx, column in enumerate(punjab.columns[1:num_plots + 1], start=1):\n",
    "    ax = plt.subplot(rows, cols, plot_idx)\n",
    "    sns.lineplot(data=punjab, x='STATE/UT', y=column,hue='Literacy',color='blue', ax=ax)\n",
    "    ax.set_xlabel(column)\n",
    "    \n",
    "plt.tight_layout()\n",
    "plt.show()"
   ]
  },
  {
   "cell_type": "code",
   "execution_count": null,
   "id": "7bddb445",
   "metadata": {},
   "outputs": [],
   "source": [
    "chhattisgarh = df[15:16]"
   ]
  },
  {
   "cell_type": "code",
   "execution_count": null,
   "id": "fc6a3d23",
   "metadata": {},
   "outputs": [],
   "source": [
    "plt.figure(figsize=(15,12))\n",
    "num_plots = min(len(up.columns) - 1, 144) \n",
    "\n",
    "rows = 29\n",
    "cols = 5\n",
    "for plot_idx, column in enumerate(chhattisgarh.columns[1:num_plots + 1], start=1):\n",
    "    ax = plt.subplot(rows, cols, plot_idx)\n",
    "    sns.lineplot(data=chhattisgarh, x='STATE/UT', y=column,hue='Literacy',color='blue', ax=ax)\n",
    "    ax.set_xlabel(column)\n",
    "    \n",
    "plt.tight_layout()\n",
    "plt.show()"
   ]
  },
  {
   "cell_type": "code",
   "execution_count": null,
   "id": "e6c0e90a",
   "metadata": {},
   "outputs": [],
   "source": [
    "haryana = df[16:17]"
   ]
  },
  {
   "cell_type": "code",
   "execution_count": null,
   "id": "6cb5e50b",
   "metadata": {},
   "outputs": [],
   "source": [
    "plt.figure(figsize=(15,12))\n",
    "num_plots = min(len(up.columns) - 1, 144) \n",
    "\n",
    "rows = 29\n",
    "cols = 5\n",
    "for plot_idx, column in enumerate(haryana.columns[1:num_plots + 1], start=1):\n",
    "    ax = plt.subplot(rows, cols, plot_idx)\n",
    "    sns.lineplot(data=haryana, x='STATE/UT', y=column,hue='Literacy',color='blue', ax=ax)\n",
    "    ax.set_xlabel(column)\n",
    "    \n",
    "plt.tight_layout()\n",
    "plt.show()"
   ]
  },
  {
   "cell_type": "code",
   "execution_count": null,
   "id": "71658381",
   "metadata": {},
   "outputs": [],
   "source": [
    "delhi = df[17:18]"
   ]
  },
  {
   "cell_type": "code",
   "execution_count": null,
   "id": "18692ea5",
   "metadata": {},
   "outputs": [],
   "source": [
    "plt.figure(figsize=(15,12))\n",
    "num_plots = min(len(up.columns) - 1, 144) \n",
    "\n",
    "rows = 29\n",
    "cols = 5\n",
    "for plot_idx, column in enumerate(delhi.columns[1:num_plots + 1], start=1):\n",
    "    ax = plt.subplot(rows, cols, plot_idx)\n",
    "    sns.lineplot(data=delhi, x='STATE/UT', y=column,hue='Literacy',color='blue', ax=ax)\n",
    "    ax.set_xlabel(column)\n",
    "    \n",
    "plt.tight_layout()\n",
    "plt.show()"
   ]
  },
  {
   "cell_type": "code",
   "execution_count": null,
   "id": "09ea1f46",
   "metadata": {},
   "outputs": [],
   "source": [
    "jnk = df[18:19]"
   ]
  },
  {
   "cell_type": "code",
   "execution_count": null,
   "id": "a850efd5",
   "metadata": {},
   "outputs": [],
   "source": [
    "plt.figure(figsize=(15,12))\n",
    "num_plots = min(len(up.columns) - 1, 144) \n",
    "\n",
    "rows = 29\n",
    "cols = 5\n",
    "for plot_idx, column in enumerate(jnk.columns[1:num_plots + 1], start=1):\n",
    "    ax = plt.subplot(rows, cols, plot_idx)\n",
    "    sns.lineplot(data=jnk, x='STATE/UT', y=column,hue='Literacy',color='blue', ax=ax)\n",
    "    ax.set_xlabel(column)\n",
    "    \n",
    "plt.tight_layout()\n",
    "plt.show()"
   ]
  },
  {
   "cell_type": "code",
   "execution_count": null,
   "id": "97750313",
   "metadata": {},
   "outputs": [],
   "source": [
    "uttarakhand = df[19:20]"
   ]
  },
  {
   "cell_type": "code",
   "execution_count": null,
   "id": "fea80735",
   "metadata": {},
   "outputs": [],
   "source": [
    "plt.figure(figsize=(15,12))\n",
    "num_plots = min(len(up.columns) - 1, 144) \n",
    "\n",
    "rows = 29\n",
    "cols = 5\n",
    "for plot_idx, column in enumerate(uttarakhand.columns[1:num_plots + 1], start=1):\n",
    "    ax = plt.subplot(rows, cols, plot_idx)\n",
    "    sns.lineplot(data=uttarakhand, x='STATE/UT', y=column,hue='Literacy',color='blue', ax=ax)\n",
    "    ax.set_xlabel(column)\n",
    "    \n",
    "plt.tight_layout()\n",
    "plt.show()"
   ]
  },
  {
   "cell_type": "code",
   "execution_count": null,
   "id": "af4716e4",
   "metadata": {},
   "outputs": [],
   "source": [
    "hp = df[20:21]"
   ]
  },
  {
   "cell_type": "code",
   "execution_count": null,
   "id": "839e819b",
   "metadata": {},
   "outputs": [],
   "source": [
    "plt.figure(figsize=(15,12))\n",
    "num_plots = min(len(up.columns) - 1, 144) \n",
    "\n",
    "rows = 29\n",
    "cols = 5\n",
    "for plot_idx, column in enumerate(hp.columns[1:num_plots + 1], start=1):\n",
    "    ax = plt.subplot(rows, cols, plot_idx)\n",
    "    sns.lineplot(data=hp, x='STATE/UT', y=column,hue='Literacy',color='blue', ax=ax)\n",
    "    ax.set_xlabel(column)\n",
    "    \n",
    "plt.tight_layout()\n",
    "plt.show()"
   ]
  },
  {
   "cell_type": "code",
   "execution_count": null,
   "id": "ffb443e0",
   "metadata": {},
   "outputs": [],
   "source": [
    "tripura = df[21:22]"
   ]
  },
  {
   "cell_type": "code",
   "execution_count": null,
   "id": "35c10fff",
   "metadata": {},
   "outputs": [],
   "source": [
    "plt.figure(figsize=(15,12))\n",
    "num_plots = min(len(up.columns) - 1, 144) \n",
    "\n",
    "rows = 29\n",
    "cols = 5\n",
    "for plot_idx, column in enumerate(tripura.columns[1:num_plots + 1], start=1):\n",
    "    ax = plt.subplot(rows, cols, plot_idx)\n",
    "    sns.lineplot(data=tripura, x='STATE/UT', y=column,hue='Literacy',color='blue', ax=ax)\n",
    "    ax.set_xlabel(column)\n",
    "    \n",
    "plt.tight_layout()\n",
    "plt.show()"
   ]
  },
  {
   "cell_type": "code",
   "execution_count": null,
   "id": "f8920bf1",
   "metadata": {},
   "outputs": [],
   "source": [
    "meghalaya = df[22:23]"
   ]
  },
  {
   "cell_type": "code",
   "execution_count": null,
   "id": "bb741130",
   "metadata": {},
   "outputs": [],
   "source": [
    "plt.figure(figsize=(15,12))\n",
    "num_plots = min(len(up.columns) - 1, 144) \n",
    "\n",
    "rows = 29\n",
    "cols = 5\n",
    "for plot_idx, column in enumerate(meghalaya.columns[1:num_plots + 1], start=1):\n",
    "    ax = plt.subplot(rows, cols, plot_idx)\n",
    "    sns.lineplot(data=meghalaya, x='STATE/UT', y=column,hue='Literacy',color='blue', ax=ax)\n",
    "    ax.set_xlabel(column)\n",
    "    \n",
    "plt.tight_layout()\n",
    "plt.show()"
   ]
  },
  {
   "cell_type": "code",
   "execution_count": null,
   "id": "7657629a",
   "metadata": {},
   "outputs": [],
   "source": [
    "manipur = df[23:24]"
   ]
  },
  {
   "cell_type": "code",
   "execution_count": null,
   "id": "e16c641b",
   "metadata": {},
   "outputs": [],
   "source": [
    "plt.figure(figsize=(15,12))\n",
    "num_plots = min(len(up.columns) - 1, 144) \n",
    "\n",
    "rows = 29\n",
    "cols = 5\n",
    "for plot_idx, column in enumerate(manipur.columns[1:num_plots + 1], start=1):\n",
    "    ax = plt.subplot(rows, cols, plot_idx)\n",
    "    sns.lineplot(data=manipur, x='STATE/UT', y=column,hue='Literacy',color='blue', ax=ax)\n",
    "    ax.set_xlabel(column)\n",
    "    \n",
    "plt.tight_layout()\n",
    "plt.show()"
   ]
  },
  {
   "cell_type": "code",
   "execution_count": null,
   "id": "879476e0",
   "metadata": {},
   "outputs": [],
   "source": [
    "nagaland = df[24:25]"
   ]
  },
  {
   "cell_type": "code",
   "execution_count": null,
   "id": "83b323ae",
   "metadata": {},
   "outputs": [],
   "source": [
    "plt.figure(figsize=(15,12))\n",
    "num_plots = min(len(up.columns) - 1, 144) \n",
    "\n",
    "rows = 29\n",
    "cols = 5\n",
    "for plot_idx, column in enumerate(nagaland.columns[1:num_plots + 1], start=1):\n",
    "    ax = plt.subplot(rows, cols, plot_idx)\n",
    "    sns.lineplot(data=nagaland, x='STATE/UT', y=column,hue='Literacy',color='blue', ax=ax)\n",
    "    ax.set_xlabel(column)\n",
    "    \n",
    "plt.tight_layout()\n",
    "plt.show()"
   ]
  },
  {
   "cell_type": "code",
   "execution_count": null,
   "id": "89e37645",
   "metadata": {},
   "outputs": [],
   "source": [
    "goa = df[25:26]"
   ]
  },
  {
   "cell_type": "code",
   "execution_count": null,
   "id": "71db96c6",
   "metadata": {},
   "outputs": [],
   "source": [
    "plt.figure(figsize=(15,12))\n",
    "num_plots = min(len(up.columns) - 1, 144) \n",
    "\n",
    "rows = 29\n",
    "cols = 5\n",
    "for plot_idx, column in enumerate(goa.columns[1:num_plots + 1], start=1):\n",
    "    ax = plt.subplot(rows, cols, plot_idx)\n",
    "    sns.lineplot(data=goa, x='STATE/UT', y=column,hue='Literacy',color='blue', ax=ax)\n",
    "    ax.set_xlabel(column)\n",
    "    \n",
    "plt.tight_layout()\n",
    "plt.show()"
   ]
  },
  {
   "cell_type": "code",
   "execution_count": null,
   "id": "22d90c0b",
   "metadata": {},
   "outputs": [],
   "source": [
    "arp = df[26:27]"
   ]
  },
  {
   "cell_type": "code",
   "execution_count": null,
   "id": "83dc5b7b",
   "metadata": {},
   "outputs": [],
   "source": [
    "plt.figure(figsize=(15,12))\n",
    "num_plots = min(len(up.columns) - 1, 144) \n",
    "\n",
    "rows = 29\n",
    "cols = 5\n",
    "for plot_idx, column in enumerate(arp.columns[1:num_plots + 1], start=1):\n",
    "    ax = plt.subplot(rows, cols, plot_idx)\n",
    "    sns.lineplot(data=arp, x='STATE/UT', y=column,hue='Literacy',color='blue', ax=ax)\n",
    "    ax.set_xlabel(column)\n",
    "    \n",
    "plt.tight_layout()\n",
    "plt.show()"
   ]
  },
  {
   "cell_type": "code",
   "execution_count": null,
   "id": "a717c61b",
   "metadata": {},
   "outputs": [],
   "source": [
    "puducherry = df[27:28]"
   ]
  },
  {
   "cell_type": "code",
   "execution_count": null,
   "id": "6a6f94d9",
   "metadata": {},
   "outputs": [],
   "source": [
    "plt.figure(figsize=(15,12))\n",
    "num_plots = min(len(up.columns) - 1, 144) \n",
    "\n",
    "rows = 29\n",
    "cols = 5\n",
    "for plot_idx, column in enumerate(puducherry.columns[1:num_plots + 1], start=1):\n",
    "    ax = plt.subplot(rows, cols, plot_idx)\n",
    "    sns.lineplot(data=puducherry, x='STATE/UT', y=column,hue='Literacy',color='blue', ax=ax)\n",
    "    ax.set_xlabel(column)\n",
    "    \n",
    "plt.tight_layout()\n",
    "plt.show()"
   ]
  },
  {
   "cell_type": "code",
   "execution_count": null,
   "id": "6df07fdb",
   "metadata": {},
   "outputs": [],
   "source": [
    "mizoram = df[28:29]"
   ]
  },
  {
   "cell_type": "code",
   "execution_count": null,
   "id": "d53dfae5",
   "metadata": {},
   "outputs": [],
   "source": [
    "plt.figure(figsize=(15,12))\n",
    "num_plots = min(len(up.columns) - 1, 144) \n",
    "\n",
    "rows = 29\n",
    "cols = 5\n",
    "for plot_idx, column in enumerate(mizoram.columns[1:num_plots + 1], start=1):\n",
    "    ax = plt.subplot(rows, cols, plot_idx)\n",
    "    sns.lineplot(data=mizoram, x='STATE/UT', y=column,hue='Literacy',color='blue', ax=ax)\n",
    "    ax.set_xlabel(column)\n",
    "    \n",
    "plt.tight_layout()\n",
    "plt.show()"
   ]
  },
  {
   "cell_type": "code",
   "execution_count": null,
   "id": "7c0a5057",
   "metadata": {},
   "outputs": [],
   "source": [
    "chandigarh = df[29:30]"
   ]
  },
  {
   "cell_type": "code",
   "execution_count": null,
   "id": "f706bbb9",
   "metadata": {},
   "outputs": [],
   "source": [
    "plt.figure(figsize=(15,12))\n",
    "num_plots = min(len(up.columns) - 1, 144) \n",
    "\n",
    "rows = 29\n",
    "cols = 5\n",
    "for plot_idx, column in enumerate(chandigarh.columns[1:num_plots + 1], start=1):\n",
    "    ax = plt.subplot(rows, cols, plot_idx)\n",
    "    sns.lineplot(data=chandigarh, x='STATE/UT', y=column,hue='Literacy',color='blue', ax=ax)\n",
    "    ax.set_xlabel(column)\n",
    "    \n",
    "plt.tight_layout()\n",
    "plt.show()"
   ]
  },
  {
   "cell_type": "code",
   "execution_count": null,
   "id": "317e055e",
   "metadata": {},
   "outputs": [],
   "source": [
    "sikkim = df[30:31]"
   ]
  },
  {
   "cell_type": "code",
   "execution_count": null,
   "id": "3e61c7ef",
   "metadata": {},
   "outputs": [],
   "source": [
    "plt.figure(figsize=(15,12))\n",
    "num_plots = min(len(up.columns) - 1, 144) \n",
    "\n",
    "rows = 29\n",
    "cols = 5\n",
    "for plot_idx, column in enumerate(sikkim.columns[1:num_plots + 1], start=1):\n",
    "    ax = plt.subplot(rows, cols, plot_idx)\n",
    "    sns.lineplot(data=sikkim, x='STATE/UT', y=column,hue='Literacy',color='blue', ax=ax)\n",
    "    ax.set_xlabel(column)\n",
    "    \n",
    "plt.tight_layout()\n",
    "plt.show()"
   ]
  },
  {
   "cell_type": "code",
   "execution_count": null,
   "id": "7cbd2f51",
   "metadata": {},
   "outputs": [],
   "source": [
    "annik = df[31:32]"
   ]
  },
  {
   "cell_type": "code",
   "execution_count": null,
   "id": "ea23f945",
   "metadata": {},
   "outputs": [],
   "source": [
    "plt.figure(figsize=(15,12))\n",
    "num_plots = min(len(up.columns) - 1, 144) \n",
    "\n",
    "rows = 29\n",
    "cols = 5\n",
    "for plot_idx, column in enumerate(annik.columns[1:num_plots + 1], start=1):\n",
    "    ax = plt.subplot(rows, cols, plot_idx)\n",
    "    sns.lineplot(data=annik, x='STATE/UT', y=column,hue='Literacy',color='blue', ax=ax)\n",
    "    ax.set_xlabel(column)\n",
    "    \n",
    "plt.tight_layout()\n",
    "plt.show()"
   ]
  },
  {
   "cell_type": "code",
   "execution_count": null,
   "id": "0313f7f7",
   "metadata": {},
   "outputs": [],
   "source": [
    "dnnh = df[32:33]"
   ]
  },
  {
   "cell_type": "code",
   "execution_count": null,
   "id": "c7691e28",
   "metadata": {},
   "outputs": [],
   "source": [
    "plt.figure(figsize=(15,12))\n",
    "num_plots = min(len(up.columns) - 1, 144) \n",
    "\n",
    "rows = 29\n",
    "cols = 5\n",
    "for plot_idx, column in enumerate(dnnh.columns[1:num_plots + 1], start=1):\n",
    "    ax = plt.subplot(rows, cols, plot_idx)\n",
    "    sns.lineplot(data=dnnh, x='STATE/UT', y=column,hue='Literacy',color='blue', ax=ax)\n",
    "    ax.set_xlabel(column)\n",
    "    \n",
    "plt.tight_layout()\n",
    "plt.show()"
   ]
  },
  {
   "cell_type": "code",
   "execution_count": null,
   "id": "dc05597e",
   "metadata": {},
   "outputs": [],
   "source": [
    "dnd = df[33:34]"
   ]
  },
  {
   "cell_type": "code",
   "execution_count": null,
   "id": "f5a7c2a1",
   "metadata": {},
   "outputs": [],
   "source": [
    "plt.figure(figsize=(15,12))\n",
    "num_plots = min(len(up.columns) - 1, 144) \n",
    "\n",
    "rows = 29\n",
    "cols = 5\n",
    "for plot_idx, column in enumerate(dnd.columns[1:num_plots + 1], start=1):\n",
    "    ax = plt.subplot(rows, cols, plot_idx)\n",
    "    sns.lineplot(data=dnd, x='STATE/UT', y=column,hue='Literacy',color='blue', ax=ax)\n",
    "    ax.set_xlabel(column)\n",
    "    \n",
    "plt.tight_layout()\n",
    "plt.show()"
   ]
  },
  {
   "cell_type": "code",
   "execution_count": null,
   "id": "35c7efec",
   "metadata": {},
   "outputs": [],
   "source": [
    "lakshadweep = df[34:35]"
   ]
  },
  {
   "cell_type": "code",
   "execution_count": null,
   "id": "898160cd",
   "metadata": {},
   "outputs": [],
   "source": [
    "plt.figure(figsize=(15,12))\n",
    "num_plots = min(len(up.columns) - 1, 144) \n",
    "\n",
    "rows = 29\n",
    "cols = 5\n",
    "for plot_idx, column in enumerate(lakshadweep.columns[1:num_plots + 1], start=1):\n",
    "    ax = plt.subplot(rows, cols, plot_idx)\n",
    "    sns.lineplot(data=lakshadweep, x='STATE/UT', y=column,hue='Literacy',color='blue', ax=ax)\n",
    "    ax.set_xlabel(column)\n",
    "    \n",
    "plt.tight_layout()\n",
    "plt.show()"
   ]
  },
  {
   "cell_type": "code",
   "execution_count": null,
   "id": "104b6e83",
   "metadata": {},
   "outputs": [],
   "source": [
    "anisland = df[35:36]"
   ]
  },
  {
   "cell_type": "code",
   "execution_count": null,
   "id": "cb8f2865",
   "metadata": {},
   "outputs": [],
   "source": [
    "plt.figure(figsize=(15,12))\n",
    "num_plots = min(len(up.columns) - 1, 144) \n",
    "\n",
    "rows = 29\n",
    "cols = 5\n",
    "for plot_idx, column in enumerate(anisland.columns[1:num_plots + 1], start=1):\n",
    "    ax = plt.subplot(rows, cols, plot_idx)\n",
    "    sns.lineplot(data=anisland, x='STATE/UT', y=column,hue='Literacy',color='blue', ax=ax)\n",
    "    ax.set_xlabel(column)\n",
    "    \n",
    "plt.tight_layout()\n",
    "plt.show()"
   ]
  },
  {
   "cell_type": "code",
   "execution_count": null,
   "id": "a4e84a45",
   "metadata": {},
   "outputs": [],
   "source": [
    "haveli_d = df[36:37]"
   ]
  },
  {
   "cell_type": "code",
   "execution_count": null,
   "id": "98385988",
   "metadata": {},
   "outputs": [],
   "source": [
    "plt.figure(figsize=(15,12))\n",
    "num_plots = min(len(up.columns) - 1, 144) \n",
    "\n",
    "rows = 29\n",
    "cols = 5\n",
    "for plot_idx, column in enumerate(haveli_d.columns[1:num_plots + 1], start=1):\n",
    "    ax = plt.subplot(rows, cols, plot_idx)\n",
    "    sns.lineplot(data=haveli_d, x='STATE/UT', y=column,hue='Literacy',color='blue', ax=ax)\n",
    "    ax.set_xlabel(column)\n",
    "    \n",
    "plt.tight_layout()\n",
    "plt.show()"
   ]
  },
  {
   "cell_type": "markdown",
   "id": "92f7d095",
   "metadata": {},
   "source": [
    "# please put figsize 45,30 for better view - smalling it to upload and to keep size smaller"
   ]
  },
  {
   "cell_type": "code",
   "execution_count": null,
   "id": "e0c1a249",
   "metadata": {},
   "outputs": [],
   "source": []
  }
 ],
 "metadata": {
  "kernelspec": {
   "display_name": "Python 3 (ipykernel)",
   "language": "python",
   "name": "python3"
  },
  "language_info": {
   "codemirror_mode": {
    "name": "ipython",
    "version": 3
   },
   "file_extension": ".py",
   "mimetype": "text/x-python",
   "name": "python",
   "nbconvert_exporter": "python",
   "pygments_lexer": "ipython3",
   "version": "3.10.9"
  }
 },
 "nbformat": 4,
 "nbformat_minor": 5
}
